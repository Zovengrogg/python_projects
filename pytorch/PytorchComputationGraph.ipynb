{
 "cells": [
  {
   "cell_type": "code",
   "execution_count": 1,
   "id": "78bcdf8f",
   "metadata": {},
   "outputs": [],
   "source": [
    "import numpy as np\n",
    "import torch\n",
    "import torch.nn as nn"
   ]
  },
  {
   "cell_type": "code",
   "execution_count": 9,
   "id": "efd45047",
   "metadata": {},
   "outputs": [],
   "source": [
    "W = torch.rand(6)\n",
    "\n",
    "x = torch.tensor([10.0, 10.0, 10.0, 10.0, 10.0, 10.0])\n",
    "\n",
    "b = torch.tensor(3)"
   ]
  },
  {
   "cell_type": "code",
   "execution_count": 10,
   "id": "2c9c2065",
   "metadata": {},
   "outputs": [
    {
     "data": {
      "text/plain": [
       "tensor([0.5291, 0.0157, 0.4510, 0.2349, 0.9775, 0.5479])"
      ]
     },
     "execution_count": 10,
     "metadata": {},
     "output_type": "execute_result"
    }
   ],
   "source": [
    "W"
   ]
  },
  {
   "cell_type": "code",
   "execution_count": 11,
   "id": "137e2fc5",
   "metadata": {},
   "outputs": [],
   "source": [
    "y = W*x +b"
   ]
  },
  {
   "cell_type": "code",
   "execution_count": 12,
   "id": "6a5bc42d",
   "metadata": {},
   "outputs": [
    {
     "data": {
      "text/plain": [
       "tensor([ 8.2914,  3.1573,  7.5101,  5.3493, 12.7753,  8.4786])"
      ]
     },
     "execution_count": 12,
     "metadata": {},
     "output_type": "execute_result"
    }
   ],
   "source": [
    "y"
   ]
  },
  {
   "cell_type": "code",
   "execution_count": 15,
   "id": "b20f9f76",
   "metadata": {},
   "outputs": [],
   "source": [
    "W1 = torch.tensor(6)\n",
    "W2 = torch.tensor(6)\n",
    "W3 = torch.tensor(6)\n",
    "\n",
    "x1 = torch.tensor([2, 2, 2])\n",
    "x2 = torch.tensor([3, 3, 3])\n",
    "x3 = torch.tensor([4, 4, 4])\n",
    "\n",
    "b = torch.tensor(10)"
   ]
  },
  {
   "cell_type": "code",
   "execution_count": 16,
   "id": "5226eb51",
   "metadata": {},
   "outputs": [
    {
     "data": {
      "text/plain": [
       "(tensor(6), tensor(6), tensor(6))"
      ]
     },
     "execution_count": 16,
     "metadata": {},
     "output_type": "execute_result"
    }
   ],
   "source": [
    "W1, W2, W3"
   ]
  },
  {
   "cell_type": "code",
   "execution_count": 17,
   "id": "6df7b6bd",
   "metadata": {},
   "outputs": [
    {
     "data": {
      "text/plain": [
       "tensor([30, 30, 30])"
      ]
     },
     "execution_count": 17,
     "metadata": {},
     "output_type": "execute_result"
    }
   ],
   "source": [
    "intermediate_value = W1 *x1 + W2 * x2\n",
    "intermediate_value"
   ]
  },
  {
   "cell_type": "code",
   "execution_count": 18,
   "id": "5cf879cf",
   "metadata": {},
   "outputs": [
    {
     "data": {
      "text/plain": [
       "tensor([64, 64, 64])"
      ]
     },
     "execution_count": 18,
     "metadata": {},
     "output_type": "execute_result"
    }
   ],
   "source": [
    "final_value = W1 *x1 + W2 * x2 + W3 *x3 + b\n",
    "final_value"
   ]
  },
  {
   "cell_type": "code",
   "execution_count": 19,
   "id": "89ba8731",
   "metadata": {},
   "outputs": [],
   "source": [
    "import hiddenlayer as hl"
   ]
  },
  {
   "cell_type": "code",
   "execution_count": null,
   "id": "6d8aa081",
   "metadata": {},
   "outputs": [],
   "source": []
  },
  {
   "cell_type": "code",
   "execution_count": null,
   "id": "f030d83a",
   "metadata": {},
   "outputs": [],
   "source": []
  },
  {
   "cell_type": "code",
   "execution_count": null,
   "id": "167b015a",
   "metadata": {},
   "outputs": [],
   "source": []
  },
  {
   "cell_type": "code",
   "execution_count": null,
   "id": "d61bbe6f",
   "metadata": {},
   "outputs": [],
   "source": []
  },
  {
   "cell_type": "code",
   "execution_count": null,
   "id": "b6842fd8",
   "metadata": {},
   "outputs": [],
   "source": []
  },
  {
   "cell_type": "code",
   "execution_count": null,
   "id": "a07ba50a",
   "metadata": {},
   "outputs": [],
   "source": []
  },
  {
   "cell_type": "code",
   "execution_count": null,
   "id": "da2da532",
   "metadata": {},
   "outputs": [],
   "source": []
  },
  {
   "cell_type": "code",
   "execution_count": null,
   "id": "ba21938f",
   "metadata": {},
   "outputs": [],
   "source": []
  },
  {
   "cell_type": "code",
   "execution_count": null,
   "id": "64121e28",
   "metadata": {},
   "outputs": [],
   "source": []
  },
  {
   "cell_type": "code",
   "execution_count": null,
   "id": "5b8f11fc",
   "metadata": {},
   "outputs": [],
   "source": []
  },
  {
   "cell_type": "code",
   "execution_count": null,
   "id": "8d91b1c5",
   "metadata": {},
   "outputs": [],
   "source": []
  },
  {
   "cell_type": "code",
   "execution_count": null,
   "id": "6e36ddae",
   "metadata": {},
   "outputs": [],
   "source": []
  }
 ],
 "metadata": {
  "kernelspec": {
   "display_name": "Python 3 (ipykernel)",
   "language": "python",
   "name": "python3"
  },
  "language_info": {
   "codemirror_mode": {
    "name": "ipython",
    "version": 3
   },
   "file_extension": ".py",
   "mimetype": "text/x-python",
   "name": "python",
   "nbconvert_exporter": "python",
   "pygments_lexer": "ipython3",
   "version": "3.7.15"
  }
 },
 "nbformat": 4,
 "nbformat_minor": 5
}
